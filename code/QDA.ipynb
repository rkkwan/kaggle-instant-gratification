{
 "cells": [
  {
   "cell_type": "markdown",
   "metadata": {},
   "source": [
    "# Exploratory Data Analysis"
   ]
  },
  {
   "cell_type": "markdown",
   "metadata": {},
   "source": [
    "### Import Libraries"
   ]
  },
  {
   "cell_type": "code",
   "execution_count": 1,
   "metadata": {},
   "outputs": [],
   "source": [
    "import pandas as pd\n",
    "import numpy as np\n",
    "\n",
    "# progress bar\n",
    "from tqdm import tqdm_notebook\n",
    "\n",
    "# visualization\n",
    "import matplotlib.pyplot as plt\n",
    "import seaborn as sns\n",
    "\n",
    "# feature selection\n",
    "from sklearn.feature_selection import VarianceThreshold\n",
    "\n",
    "# modeling\n",
    "from sklearn.discriminant_analysis import QuadraticDiscriminantAnalysis\n",
    "from sklearn.model_selection import StratifiedKFold\n",
    "\n",
    "# validation\n",
    "from sklearn.metrics import roc_auc_score\n",
    "\n",
    "import warnings\n",
    "import multiprocessing\n",
    "warnings.filterwarnings('ignore')"
   ]
  },
  {
   "cell_type": "markdown",
   "metadata": {},
   "source": [
    "### Load Data"
   ]
  },
  {
   "cell_type": "code",
   "execution_count": 2,
   "metadata": {},
   "outputs": [
    {
     "name": "stdout",
     "output_type": "stream",
     "text": [
      "CPU times: user 18.4 s, sys: 1.91 s, total: 20.3 s\n",
      "Wall time: 19.7 s\n"
     ]
    }
   ],
   "source": [
    "%%time \n",
    "train = pd.read_csv(\"../data/train.csv\")\n",
    "test = pd.read_csv(\"../data/test.csv\")"
   ]
  },
  {
   "cell_type": "code",
   "execution_count": 3,
   "metadata": {},
   "outputs": [
    {
     "name": "stdout",
     "output_type": "stream",
     "text": [
      "CPU times: user 846 ms, sys: 1.83 s, total: 2.68 s\n",
      "Wall time: 18 s\n"
     ]
    }
   ],
   "source": [
    "%%time\n",
    "# loading with multiprocessing\n",
    "def load_data(data):\n",
    "    return pd.read_csv(data)\n",
    "\n",
    "with multiprocessing.Pool() as pool:\n",
    "    train, test, sub = pool.map(load_data, ['../data/train.csv', '../data/test.csv', '../data/sample_submission.csv'])\n",
    "    "
   ]
  },
  {
   "cell_type": "code",
   "execution_count": 4,
   "metadata": {},
   "outputs": [
    {
     "data": {
      "text/html": [
       "<div>\n",
       "<style scoped>\n",
       "    .dataframe tbody tr th:only-of-type {\n",
       "        vertical-align: middle;\n",
       "    }\n",
       "\n",
       "    .dataframe tbody tr th {\n",
       "        vertical-align: top;\n",
       "    }\n",
       "\n",
       "    .dataframe thead th {\n",
       "        text-align: right;\n",
       "    }\n",
       "</style>\n",
       "<table border=\"1\" class=\"dataframe\">\n",
       "  <thead>\n",
       "    <tr style=\"text-align: right;\">\n",
       "      <th></th>\n",
       "      <th>id</th>\n",
       "      <th>muggy-smalt-axolotl-pembus</th>\n",
       "      <th>dorky-peach-sheepdog-ordinal</th>\n",
       "      <th>slimy-seashell-cassowary-goose</th>\n",
       "      <th>snazzy-harlequin-chicken-distraction</th>\n",
       "      <th>frumpy-smalt-mau-ordinal</th>\n",
       "      <th>stealthy-beige-pinscher-golden</th>\n",
       "      <th>chummy-cream-tarantula-entropy</th>\n",
       "      <th>hazy-emerald-cuttlefish-unsorted</th>\n",
       "      <th>nerdy-indigo-wolfhound-sorted</th>\n",
       "      <th>...</th>\n",
       "      <th>wheezy-myrtle-mandrill-entropy</th>\n",
       "      <th>wiggy-lilac-lemming-sorted</th>\n",
       "      <th>gloppy-cerise-snail-contributor</th>\n",
       "      <th>woozy-silver-havanese-gaussian</th>\n",
       "      <th>jumpy-thistle-discus-sorted</th>\n",
       "      <th>muggy-turquoise-donkey-important</th>\n",
       "      <th>blurry-buff-hyena-entropy</th>\n",
       "      <th>bluesy-chocolate-kudu-fepid</th>\n",
       "      <th>gamy-white-monster-expert</th>\n",
       "      <th>target</th>\n",
       "    </tr>\n",
       "  </thead>\n",
       "  <tbody>\n",
       "    <tr>\n",
       "      <th>0</th>\n",
       "      <td>707b395ecdcbb4dc2eabea00e4d1b179</td>\n",
       "      <td>-2.070654</td>\n",
       "      <td>1.018160</td>\n",
       "      <td>0.228643</td>\n",
       "      <td>0.857221</td>\n",
       "      <td>0.052271</td>\n",
       "      <td>0.230303</td>\n",
       "      <td>-6.385090</td>\n",
       "      <td>0.439369</td>\n",
       "      <td>-0.721946</td>\n",
       "      <td>...</td>\n",
       "      <td>0.351895</td>\n",
       "      <td>0.618824</td>\n",
       "      <td>-1.542423</td>\n",
       "      <td>0.598175</td>\n",
       "      <td>0.611757</td>\n",
       "      <td>0.678772</td>\n",
       "      <td>0.247059</td>\n",
       "      <td>-0.806677</td>\n",
       "      <td>-0.193649</td>\n",
       "      <td>0</td>\n",
       "    </tr>\n",
       "    <tr>\n",
       "      <th>1</th>\n",
       "      <td>5880c03c6582a7b42248668e56b4bdec</td>\n",
       "      <td>-0.491702</td>\n",
       "      <td>0.082645</td>\n",
       "      <td>-0.011193</td>\n",
       "      <td>1.071266</td>\n",
       "      <td>-0.346347</td>\n",
       "      <td>-0.082209</td>\n",
       "      <td>0.110579</td>\n",
       "      <td>-0.382374</td>\n",
       "      <td>-0.229620</td>\n",
       "      <td>...</td>\n",
       "      <td>-0.645115</td>\n",
       "      <td>-1.246090</td>\n",
       "      <td>2.613357</td>\n",
       "      <td>-0.479664</td>\n",
       "      <td>1.581289</td>\n",
       "      <td>0.931258</td>\n",
       "      <td>0.151937</td>\n",
       "      <td>-0.766595</td>\n",
       "      <td>0.474351</td>\n",
       "      <td>0</td>\n",
       "    </tr>\n",
       "    <tr>\n",
       "      <th>2</th>\n",
       "      <td>4ccbcb3d13e5072ff1d9c61afe2c4f77</td>\n",
       "      <td>-1.680473</td>\n",
       "      <td>0.860529</td>\n",
       "      <td>-1.076195</td>\n",
       "      <td>0.740124</td>\n",
       "      <td>3.678445</td>\n",
       "      <td>0.288558</td>\n",
       "      <td>0.515875</td>\n",
       "      <td>0.920590</td>\n",
       "      <td>-1.223277</td>\n",
       "      <td>...</td>\n",
       "      <td>0.516422</td>\n",
       "      <td>0.130521</td>\n",
       "      <td>-0.459210</td>\n",
       "      <td>2.028205</td>\n",
       "      <td>-0.093968</td>\n",
       "      <td>-0.218274</td>\n",
       "      <td>-0.163136</td>\n",
       "      <td>-0.870289</td>\n",
       "      <td>0.064038</td>\n",
       "      <td>1</td>\n",
       "    </tr>\n",
       "    <tr>\n",
       "      <th>3</th>\n",
       "      <td>e350f17a357f12a1941f0837afb7eb8d</td>\n",
       "      <td>0.183774</td>\n",
       "      <td>0.919134</td>\n",
       "      <td>-0.946958</td>\n",
       "      <td>0.918492</td>\n",
       "      <td>0.862278</td>\n",
       "      <td>1.155287</td>\n",
       "      <td>0.911106</td>\n",
       "      <td>0.562598</td>\n",
       "      <td>-1.349685</td>\n",
       "      <td>...</td>\n",
       "      <td>-1.168967</td>\n",
       "      <td>1.385089</td>\n",
       "      <td>-0.353028</td>\n",
       "      <td>3.316150</td>\n",
       "      <td>-0.524087</td>\n",
       "      <td>-0.794327</td>\n",
       "      <td>3.936365</td>\n",
       "      <td>0.682989</td>\n",
       "      <td>-2.521211</td>\n",
       "      <td>0</td>\n",
       "    </tr>\n",
       "    <tr>\n",
       "      <th>4</th>\n",
       "      <td>a8f910ea6075b6376af079055965ff68</td>\n",
       "      <td>-0.203933</td>\n",
       "      <td>-0.177252</td>\n",
       "      <td>0.368074</td>\n",
       "      <td>-0.701320</td>\n",
       "      <td>-1.104391</td>\n",
       "      <td>0.735760</td>\n",
       "      <td>0.894273</td>\n",
       "      <td>-1.375826</td>\n",
       "      <td>-5.144946</td>\n",
       "      <td>...</td>\n",
       "      <td>-0.279168</td>\n",
       "      <td>1.544356</td>\n",
       "      <td>2.959727</td>\n",
       "      <td>1.641201</td>\n",
       "      <td>-0.130818</td>\n",
       "      <td>-0.264292</td>\n",
       "      <td>-0.748668</td>\n",
       "      <td>0.964218</td>\n",
       "      <td>0.087079</td>\n",
       "      <td>0</td>\n",
       "    </tr>\n",
       "  </tbody>\n",
       "</table>\n",
       "<p>5 rows × 258 columns</p>\n",
       "</div>"
      ],
      "text/plain": [
       "                                 id  muggy-smalt-axolotl-pembus  \\\n",
       "0  707b395ecdcbb4dc2eabea00e4d1b179                   -2.070654   \n",
       "1  5880c03c6582a7b42248668e56b4bdec                   -0.491702   \n",
       "2  4ccbcb3d13e5072ff1d9c61afe2c4f77                   -1.680473   \n",
       "3  e350f17a357f12a1941f0837afb7eb8d                    0.183774   \n",
       "4  a8f910ea6075b6376af079055965ff68                   -0.203933   \n",
       "\n",
       "   dorky-peach-sheepdog-ordinal  slimy-seashell-cassowary-goose  \\\n",
       "0                      1.018160                        0.228643   \n",
       "1                      0.082645                       -0.011193   \n",
       "2                      0.860529                       -1.076195   \n",
       "3                      0.919134                       -0.946958   \n",
       "4                     -0.177252                        0.368074   \n",
       "\n",
       "   snazzy-harlequin-chicken-distraction  frumpy-smalt-mau-ordinal  \\\n",
       "0                              0.857221                  0.052271   \n",
       "1                              1.071266                 -0.346347   \n",
       "2                              0.740124                  3.678445   \n",
       "3                              0.918492                  0.862278   \n",
       "4                             -0.701320                 -1.104391   \n",
       "\n",
       "   stealthy-beige-pinscher-golden  chummy-cream-tarantula-entropy  \\\n",
       "0                        0.230303                       -6.385090   \n",
       "1                       -0.082209                        0.110579   \n",
       "2                        0.288558                        0.515875   \n",
       "3                        1.155287                        0.911106   \n",
       "4                        0.735760                        0.894273   \n",
       "\n",
       "   hazy-emerald-cuttlefish-unsorted  nerdy-indigo-wolfhound-sorted   ...    \\\n",
       "0                          0.439369                      -0.721946   ...     \n",
       "1                         -0.382374                      -0.229620   ...     \n",
       "2                          0.920590                      -1.223277   ...     \n",
       "3                          0.562598                      -1.349685   ...     \n",
       "4                         -1.375826                      -5.144946   ...     \n",
       "\n",
       "   wheezy-myrtle-mandrill-entropy  wiggy-lilac-lemming-sorted  \\\n",
       "0                        0.351895                    0.618824   \n",
       "1                       -0.645115                   -1.246090   \n",
       "2                        0.516422                    0.130521   \n",
       "3                       -1.168967                    1.385089   \n",
       "4                       -0.279168                    1.544356   \n",
       "\n",
       "   gloppy-cerise-snail-contributor  woozy-silver-havanese-gaussian  \\\n",
       "0                        -1.542423                        0.598175   \n",
       "1                         2.613357                       -0.479664   \n",
       "2                        -0.459210                        2.028205   \n",
       "3                        -0.353028                        3.316150   \n",
       "4                         2.959727                        1.641201   \n",
       "\n",
       "   jumpy-thistle-discus-sorted  muggy-turquoise-donkey-important  \\\n",
       "0                     0.611757                          0.678772   \n",
       "1                     1.581289                          0.931258   \n",
       "2                    -0.093968                         -0.218274   \n",
       "3                    -0.524087                         -0.794327   \n",
       "4                    -0.130818                         -0.264292   \n",
       "\n",
       "   blurry-buff-hyena-entropy  bluesy-chocolate-kudu-fepid  \\\n",
       "0                   0.247059                    -0.806677   \n",
       "1                   0.151937                    -0.766595   \n",
       "2                  -0.163136                    -0.870289   \n",
       "3                   3.936365                     0.682989   \n",
       "4                  -0.748668                     0.964218   \n",
       "\n",
       "   gamy-white-monster-expert  target  \n",
       "0                  -0.193649       0  \n",
       "1                   0.474351       0  \n",
       "2                   0.064038       1  \n",
       "3                  -2.521211       0  \n",
       "4                   0.087079       0  \n",
       "\n",
       "[5 rows x 258 columns]"
      ]
     },
     "execution_count": 4,
     "metadata": {},
     "output_type": "execute_result"
    }
   ],
   "source": [
    "train.head()"
   ]
  },
  {
   "cell_type": "code",
   "execution_count": 5,
   "metadata": {},
   "outputs": [
    {
     "data": {
      "text/plain": [
       "(262144, 258)"
      ]
     },
     "execution_count": 5,
     "metadata": {},
     "output_type": "execute_result"
    }
   ],
   "source": [
    "train.shape"
   ]
  },
  {
   "cell_type": "code",
   "execution_count": 6,
   "metadata": {},
   "outputs": [
    {
     "data": {
      "text/plain": [
       "512.0"
      ]
     },
     "execution_count": 6,
     "metadata": {},
     "output_type": "execute_result"
    }
   ],
   "source": [
    "np.sqrt(train.shape[0])"
   ]
  },
  {
   "cell_type": "code",
   "execution_count": 7,
   "metadata": {},
   "outputs": [
    {
     "data": {
      "text/plain": [
       "1    0.500225\n",
       "0    0.499775\n",
       "Name: target, dtype: float64"
      ]
     },
     "execution_count": 7,
     "metadata": {},
     "output_type": "execute_result"
    }
   ],
   "source": [
    "train['target'].value_counts(normalize = True)"
   ]
  },
  {
   "cell_type": "markdown",
   "metadata": {},
   "source": [
    "Class is balanced."
   ]
  },
  {
   "cell_type": "code",
   "execution_count": 53,
   "metadata": {},
   "outputs": [
    {
     "data": {
      "text/html": [
       "<div>\n",
       "<style scoped>\n",
       "    .dataframe tbody tr th:only-of-type {\n",
       "        vertical-align: middle;\n",
       "    }\n",
       "\n",
       "    .dataframe tbody tr th {\n",
       "        vertical-align: top;\n",
       "    }\n",
       "\n",
       "    .dataframe thead th {\n",
       "        text-align: right;\n",
       "    }\n",
       "</style>\n",
       "<table border=\"1\" class=\"dataframe\">\n",
       "  <thead>\n",
       "    <tr style=\"text-align: right;\">\n",
       "      <th></th>\n",
       "      <th>id</th>\n",
       "      <th>muggy-smalt-axolotl-pembus</th>\n",
       "      <th>dorky-peach-sheepdog-ordinal</th>\n",
       "      <th>slimy-seashell-cassowary-goose</th>\n",
       "      <th>snazzy-harlequin-chicken-distraction</th>\n",
       "      <th>frumpy-smalt-mau-ordinal</th>\n",
       "      <th>stealthy-beige-pinscher-golden</th>\n",
       "      <th>chummy-cream-tarantula-entropy</th>\n",
       "      <th>hazy-emerald-cuttlefish-unsorted</th>\n",
       "      <th>nerdy-indigo-wolfhound-sorted</th>\n",
       "      <th>...</th>\n",
       "      <th>goopy-lavender-wolverine-fimbus</th>\n",
       "      <th>wheezy-myrtle-mandrill-entropy</th>\n",
       "      <th>wiggy-lilac-lemming-sorted</th>\n",
       "      <th>gloppy-cerise-snail-contributor</th>\n",
       "      <th>woozy-silver-havanese-gaussian</th>\n",
       "      <th>jumpy-thistle-discus-sorted</th>\n",
       "      <th>muggy-turquoise-donkey-important</th>\n",
       "      <th>blurry-buff-hyena-entropy</th>\n",
       "      <th>bluesy-chocolate-kudu-fepid</th>\n",
       "      <th>gamy-white-monster-expert</th>\n",
       "    </tr>\n",
       "  </thead>\n",
       "  <tbody>\n",
       "    <tr>\n",
       "      <th>0</th>\n",
       "      <td>1c13f2701648e0b0d46d8a2a5a131a53</td>\n",
       "      <td>-5.490030</td>\n",
       "      <td>0.593976</td>\n",
       "      <td>1.532732</td>\n",
       "      <td>-0.361234</td>\n",
       "      <td>-0.155282</td>\n",
       "      <td>-1.340582</td>\n",
       "      <td>1.626819</td>\n",
       "      <td>4.280084</td>\n",
       "      <td>-0.340155</td>\n",
       "      <td>...</td>\n",
       "      <td>0.386831</td>\n",
       "      <td>0.817764</td>\n",
       "      <td>-1.215121</td>\n",
       "      <td>0.238812</td>\n",
       "      <td>-0.507346</td>\n",
       "      <td>1.360599</td>\n",
       "      <td>-1.743894</td>\n",
       "      <td>1.412043</td>\n",
       "      <td>-0.562730</td>\n",
       "      <td>-0.237948</td>\n",
       "    </tr>\n",
       "    <tr>\n",
       "      <th>1</th>\n",
       "      <td>ba88c155ba898fc8b5099893036ef205</td>\n",
       "      <td>0.571698</td>\n",
       "      <td>0.495494</td>\n",
       "      <td>1.133975</td>\n",
       "      <td>-0.315875</td>\n",
       "      <td>-2.142458</td>\n",
       "      <td>-0.478650</td>\n",
       "      <td>-1.458941</td>\n",
       "      <td>0.977352</td>\n",
       "      <td>0.159189</td>\n",
       "      <td>...</td>\n",
       "      <td>-1.120400</td>\n",
       "      <td>-0.953432</td>\n",
       "      <td>0.266619</td>\n",
       "      <td>-2.088512</td>\n",
       "      <td>0.252637</td>\n",
       "      <td>-1.034676</td>\n",
       "      <td>-0.804765</td>\n",
       "      <td>0.639112</td>\n",
       "      <td>1.172667</td>\n",
       "      <td>-1.666513</td>\n",
       "    </tr>\n",
       "    <tr>\n",
       "      <th>2</th>\n",
       "      <td>7cbab5cea99169139e7e6d8ff74ebb77</td>\n",
       "      <td>0.478202</td>\n",
       "      <td>-1.429985</td>\n",
       "      <td>0.410429</td>\n",
       "      <td>-1.329215</td>\n",
       "      <td>-0.888456</td>\n",
       "      <td>0.721798</td>\n",
       "      <td>-0.809630</td>\n",
       "      <td>-0.216637</td>\n",
       "      <td>4.038961</td>\n",
       "      <td>...</td>\n",
       "      <td>1.330744</td>\n",
       "      <td>-0.757244</td>\n",
       "      <td>1.289617</td>\n",
       "      <td>1.824534</td>\n",
       "      <td>-0.306249</td>\n",
       "      <td>-0.875231</td>\n",
       "      <td>-0.436228</td>\n",
       "      <td>0.007315</td>\n",
       "      <td>-0.841215</td>\n",
       "      <td>1.099160</td>\n",
       "    </tr>\n",
       "    <tr>\n",
       "      <th>3</th>\n",
       "      <td>ca820ad57809f62eb7b4d13f5d4371a0</td>\n",
       "      <td>0.124178</td>\n",
       "      <td>-0.347069</td>\n",
       "      <td>-0.457690</td>\n",
       "      <td>1.248395</td>\n",
       "      <td>0.368441</td>\n",
       "      <td>0.832838</td>\n",
       "      <td>-2.050084</td>\n",
       "      <td>3.168626</td>\n",
       "      <td>-0.399716</td>\n",
       "      <td>...</td>\n",
       "      <td>-0.839954</td>\n",
       "      <td>-2.029489</td>\n",
       "      <td>3.218734</td>\n",
       "      <td>1.091271</td>\n",
       "      <td>1.384581</td>\n",
       "      <td>-0.313402</td>\n",
       "      <td>-0.816372</td>\n",
       "      <td>1.079761</td>\n",
       "      <td>-0.168144</td>\n",
       "      <td>0.102878</td>\n",
       "    </tr>\n",
       "    <tr>\n",
       "      <th>4</th>\n",
       "      <td>7baaf361537fbd8a1aaa2c97a6d4ccc7</td>\n",
       "      <td>-1.806586</td>\n",
       "      <td>0.660947</td>\n",
       "      <td>-0.004663</td>\n",
       "      <td>-3.383956</td>\n",
       "      <td>1.018235</td>\n",
       "      <td>1.670834</td>\n",
       "      <td>-0.208904</td>\n",
       "      <td>0.124925</td>\n",
       "      <td>0.224575</td>\n",
       "      <td>...</td>\n",
       "      <td>0.024204</td>\n",
       "      <td>0.680223</td>\n",
       "      <td>0.801870</td>\n",
       "      <td>-0.681506</td>\n",
       "      <td>1.340432</td>\n",
       "      <td>-0.645714</td>\n",
       "      <td>0.002157</td>\n",
       "      <td>0.733017</td>\n",
       "      <td>2.039239</td>\n",
       "      <td>0.842452</td>\n",
       "    </tr>\n",
       "  </tbody>\n",
       "</table>\n",
       "<p>5 rows × 257 columns</p>\n",
       "</div>"
      ],
      "text/plain": [
       "                                 id  muggy-smalt-axolotl-pembus  \\\n",
       "0  1c13f2701648e0b0d46d8a2a5a131a53                   -5.490030   \n",
       "1  ba88c155ba898fc8b5099893036ef205                    0.571698   \n",
       "2  7cbab5cea99169139e7e6d8ff74ebb77                    0.478202   \n",
       "3  ca820ad57809f62eb7b4d13f5d4371a0                    0.124178   \n",
       "4  7baaf361537fbd8a1aaa2c97a6d4ccc7                   -1.806586   \n",
       "\n",
       "   dorky-peach-sheepdog-ordinal  slimy-seashell-cassowary-goose  \\\n",
       "0                      0.593976                        1.532732   \n",
       "1                      0.495494                        1.133975   \n",
       "2                     -1.429985                        0.410429   \n",
       "3                     -0.347069                       -0.457690   \n",
       "4                      0.660947                       -0.004663   \n",
       "\n",
       "   snazzy-harlequin-chicken-distraction  frumpy-smalt-mau-ordinal  \\\n",
       "0                             -0.361234                 -0.155282   \n",
       "1                             -0.315875                 -2.142458   \n",
       "2                             -1.329215                 -0.888456   \n",
       "3                              1.248395                  0.368441   \n",
       "4                             -3.383956                  1.018235   \n",
       "\n",
       "   stealthy-beige-pinscher-golden  chummy-cream-tarantula-entropy  \\\n",
       "0                       -1.340582                        1.626819   \n",
       "1                       -0.478650                       -1.458941   \n",
       "2                        0.721798                       -0.809630   \n",
       "3                        0.832838                       -2.050084   \n",
       "4                        1.670834                       -0.208904   \n",
       "\n",
       "   hazy-emerald-cuttlefish-unsorted  nerdy-indigo-wolfhound-sorted  \\\n",
       "0                          4.280084                      -0.340155   \n",
       "1                          0.977352                       0.159189   \n",
       "2                         -0.216637                       4.038961   \n",
       "3                          3.168626                      -0.399716   \n",
       "4                          0.124925                       0.224575   \n",
       "\n",
       "             ...              goopy-lavender-wolverine-fimbus  \\\n",
       "0            ...                                     0.386831   \n",
       "1            ...                                    -1.120400   \n",
       "2            ...                                     1.330744   \n",
       "3            ...                                    -0.839954   \n",
       "4            ...                                     0.024204   \n",
       "\n",
       "   wheezy-myrtle-mandrill-entropy  wiggy-lilac-lemming-sorted  \\\n",
       "0                        0.817764                   -1.215121   \n",
       "1                       -0.953432                    0.266619   \n",
       "2                       -0.757244                    1.289617   \n",
       "3                       -2.029489                    3.218734   \n",
       "4                        0.680223                    0.801870   \n",
       "\n",
       "   gloppy-cerise-snail-contributor  woozy-silver-havanese-gaussian  \\\n",
       "0                         0.238812                       -0.507346   \n",
       "1                        -2.088512                        0.252637   \n",
       "2                         1.824534                       -0.306249   \n",
       "3                         1.091271                        1.384581   \n",
       "4                        -0.681506                        1.340432   \n",
       "\n",
       "   jumpy-thistle-discus-sorted  muggy-turquoise-donkey-important  \\\n",
       "0                     1.360599                         -1.743894   \n",
       "1                    -1.034676                         -0.804765   \n",
       "2                    -0.875231                         -0.436228   \n",
       "3                    -0.313402                         -0.816372   \n",
       "4                    -0.645714                          0.002157   \n",
       "\n",
       "   blurry-buff-hyena-entropy  bluesy-chocolate-kudu-fepid  \\\n",
       "0                   1.412043                    -0.562730   \n",
       "1                   0.639112                     1.172667   \n",
       "2                   0.007315                    -0.841215   \n",
       "3                   1.079761                    -0.168144   \n",
       "4                   0.733017                     2.039239   \n",
       "\n",
       "   gamy-white-monster-expert  \n",
       "0                  -0.237948  \n",
       "1                  -1.666513  \n",
       "2                   1.099160  \n",
       "3                   0.102878  \n",
       "4                   0.842452  \n",
       "\n",
       "[5 rows x 257 columns]"
      ]
     },
     "execution_count": 53,
     "metadata": {},
     "output_type": "execute_result"
    }
   ],
   "source": [
    "test.head()"
   ]
  },
  {
   "cell_type": "code",
   "execution_count": 29,
   "metadata": {},
   "outputs": [],
   "source": [
    "%%time \n",
    "unique_value_counts = train.apply(lambda col: len(col.unique()))"
   ]
  },
  {
   "cell_type": "code",
   "execution_count": 31,
   "metadata": {},
   "outputs": [
    {
     "data": {
      "text/plain": [
       "target                                     2\n",
       "wheezy-copper-turtle-magic               512\n",
       "lanky-coral-moorhen-expert            253919\n",
       "shaggy-silver-indri-fimbus            253956\n",
       "baggy-copper-oriole-dummy             253989\n",
       "wheezy-harlequin-earwig-gaussian      254004\n",
       "chummy-ruby-chinook-dataset           254063\n",
       "scanty-periwinkle-dhole-dataset       254083\n",
       "gloppy-persimmon-bee-unsorted         254083\n",
       "seedy-charcoal-capybara-ordinal       254093\n",
       "tasty-buff-monkey-learn               254097\n",
       "cheeky-red-armadillo-unsorted         254117\n",
       "dorky-turquoise-maltese-important     254122\n",
       "slimy-azure-molly-sumble              254123\n",
       "nerdy-teal-olm-fepid                  254136\n",
       "snippy-auburn-vole-learn              254154\n",
       "crabby-teal-otter-unsorted            254164\n",
       "crappy-carmine-eagle-entropy          254165\n",
       "snappy-gamboge-caterpillar-dummy      254167\n",
       "lousy-asparagus-tiger-discard         254170\n",
       "ugly-tangerine-chihuahua-important    254170\n",
       "lovely-plum-goat-novice               254187\n",
       "gamy-white-monster-expert             254192\n",
       "snoopy-auburn-dogfish-expert          254194\n",
       "leaky-amaranth-lizard-sorted          254205\n",
       "chewy-myrtle-wasp-important           254209\n",
       "woozy-apricot-moose-hint              254214\n",
       "wheezy-lavender-catfish-master        254219\n",
       "stuffy-periwinkle-zebu-discard        254221\n",
       "squirrely-harlequin-sheep-sumble      254224\n",
       "                                       ...  \n",
       "messy-mauve-wolverine-ordinal         254677\n",
       "slimy-blue-alligator-master           254693\n",
       "snazzy-cerise-donkey-distraction      254698\n",
       "snazzy-burgundy-clam-novice           254705\n",
       "hasty-seashell-woodpecker-hint        254710\n",
       "whiny-flax-sloth-learn                254713\n",
       "craggy-maroon-civet-grandmaster       254715\n",
       "wheezy-myrtle-mandrill-entropy        254718\n",
       "flaky-cream-peccary-sorted            254731\n",
       "lanky-aqua-bullfrog-important         254731\n",
       "pasty-sepia-eel-noise                 254732\n",
       "snappy-purple-bobcat-important        254733\n",
       "hasty-pink-iguana-noise               254737\n",
       "flimsy-magnolia-gopher-learn          254747\n",
       "sleazy-russet-iguana-unsorted         254752\n",
       "nerdy-indigo-wolfhound-sorted         254752\n",
       "droopy-amethyst-dachshund-hint        254752\n",
       "nippy-burgundy-beagle-novice          254768\n",
       "breezy-myrtle-loon-discard            254775\n",
       "wiggy-denim-retriever-distraction     254777\n",
       "skimpy-copper-fowl-grandmaster        254780\n",
       "queasy-peach-bison-sumble             254795\n",
       "cozy-ochre-gorilla-gaussian           254806\n",
       "cranky-champagne-jackal-gaussian      254809\n",
       "squeaky-khaki-lionfish-distraction    254815\n",
       "snoopy-heliotrope-squid-dataset       254824\n",
       "hazy-tan-schnauzer-hint               254947\n",
       "chewy-bistre-buzzard-expert           254991\n",
       "skinny-ultramarine-cat-fimbus         255057\n",
       "id                                    262144\n",
       "Length: 258, dtype: int64"
      ]
     },
     "execution_count": 31,
     "metadata": {},
     "output_type": "execute_result"
    }
   ],
   "source": [
    "unique_value_counts.sort_values()"
   ]
  },
  {
   "cell_type": "markdown",
   "metadata": {},
   "source": [
    "`wheezy-copper-turtle-magic` looks like a categorical variable, from 0 to 511."
   ]
  },
  {
   "cell_type": "code",
   "execution_count": 178,
   "metadata": {},
   "outputs": [
    {
     "data": {
      "text/plain": [
       "(0, 511)"
      ]
     },
     "execution_count": 178,
     "metadata": {},
     "output_type": "execute_result"
    }
   ],
   "source": [
    "train['wheezy-copper-turtle-magic'].min(), train['wheezy-copper-turtle-magic'].max()"
   ]
  },
  {
   "cell_type": "code",
   "execution_count": 186,
   "metadata": {},
   "outputs": [
    {
     "data": {
      "text/plain": [
       "<matplotlib.axes._subplots.AxesSubplot at 0x1294e97b8>"
      ]
     },
     "execution_count": 186,
     "metadata": {},
     "output_type": "execute_result"
    },
    {
     "data": {
      "image/png": "[encoded data removed]",
      "text/plain": [
       "<Figure size 432x288 with 1 Axes>"
      ]
     },
     "metadata": {},
     "output_type": "display_data"
    }
   ],
   "source": [
    "train.groupby(\"wheezy-copper-turtle-magic\").size().hist(bins = 30)"
   ]
  },
  {
   "cell_type": "markdown",
   "metadata": {},
   "source": [
    "## Modeling"
   ]
  },
  {
   "cell_type": "markdown",
   "metadata": {},
   "source": [
    "### Quadratic Discriminatory Analysis (QDA)"
   ]
  },
  {
   "cell_type": "markdown",
   "metadata": {},
   "source": [
    "### Pseudo Labeling\n",
    "The process of adding confident predicted test data to your training data. It is a 5 step process:\n",
    "\n",
    "1. Build a model using training data\n",
    "2. Predict labels for an unseen test dataset\n",
    "3. Add confident predicted test observations to out training data\n",
    "4. Build a new model using combined data\n",
    "5. Use your new model to predict the test data and submit to Kaggle."
   ]
  },
  {
   "cell_type": "markdown",
   "metadata": {},
   "source": [
    "### Step 1 & 2 - Build initial QDA model and predict test data"
   ]
  },
  {
   "cell_type": "code",
   "execution_count": 340,
   "metadata": {},
   "outputs": [],
   "source": [
    "# initialize variables\n",
    "cols = [c for c in train.columns if c not in ['id', 'target', 'wheezy-copper-turtle-magic']]\n",
    "\n",
    "# oof = Out Of Fold predictions\n",
    "oof = np.zeros(len(train))\n",
    "preds = np.zeros(len(test))"
   ]
  },
  {
   "cell_type": "code",
   "execution_count": 341,
   "metadata": {},
   "outputs": [
    {
     "data": {
      "application/vnd.jupyter.widget-view+json": {
       "model_id": "2a24c5224af749e0a8cbc3e6f80084d0",
       "version_major": 2,
       "version_minor": 0
      },
      "text/plain": [
       "HBox(children=(IntProgress(value=0, max=512), HTML(value='')))"
      ]
     },
     "metadata": {},
     "output_type": "display_data"
    },
    {
     "name": "stdout",
     "output_type": "stream",
     "text": [
      "\n",
      "CPU times: user 1min 18s, sys: 853 ms, total: 1min 18s\n",
      "Wall time: 20.1 s\n"
     ]
    }
   ],
   "source": [
    "%%time \n",
    "\n",
    "# build 512 models, one for each value of wheezy-copper-turtle-magic\n",
    "for i in tqdm_notebook(range(512)):\n",
    "    # segment data\n",
    "    train_i = train[train['wheezy-copper-turtle-magic'] == i]\n",
    "    test_i = test[test['wheezy-copper-turtle-magic'] == i]\n",
    "    \n",
    "    idx1 = train_i.index\n",
    "    idx2 = test_i.index\n",
    "    \n",
    "    train_i.reset_index(drop=True, inplace=True)\n",
    "    \n",
    "    # feature selection\n",
    "    sel = VarianceThreshold(threshold=1.5).fit(train_i[cols])\n",
    "    \n",
    "    train_sel = sel.transform(train_i[cols])\n",
    "    test_sel = sel.transform(test_i[cols])\n",
    "    \n",
    "    # stratified K-fold\n",
    "    skf = StratifiedKFold(n_splits=11, random_state=42, shuffle=True)\n",
    "    \n",
    "    for train_idx, test_idx in skf.split(train_sel, train_i['target']):\n",
    "        # model and predict with QDA\n",
    "        \n",
    "        # instantiate model\n",
    "        clf = QuadraticDiscriminantAnalysis(reg_param=0.5)\n",
    "        \n",
    "        # fit model\n",
    "        clf.fit(train_sel[train_idx, :], train_i.loc[train_idx, 'target'])\n",
    "        \n",
    "        # predict probability\n",
    "        oof[idx1[test_idx]] = clf.predict_proba(train_sel[test_idx, :])[:, 1]\n",
    "        preds[idx2] += clf.predict_proba(test_sel)[:, 1] / skf.n_splits\n",
    "        "
   ]
  },
  {
   "cell_type": "code",
   "execution_count": 342,
   "metadata": {},
   "outputs": [
    {
     "name": "stdout",
     "output_type": "stream",
     "text": [
      "QDA train scores: 0.96541\n"
     ]
    }
   ],
   "source": [
    "# model evaluation\n",
    "train_auc = roc_auc_score(train['target'], oof)\n",
    "print('QDA train scores:', round(train_auc, 5))"
   ]
  },
  {
   "cell_type": "markdown",
   "metadata": {},
   "source": [
    "### Step 3 & 4 -  Add pseudo label data and build second model"
   ]
  },
  {
   "cell_type": "markdown",
   "metadata": {},
   "source": [
    "#### Label confident predictions"
   ]
  },
  {
   "cell_type": "code",
   "execution_count": 343,
   "metadata": {},
   "outputs": [],
   "source": [
    "# label confident predictions\n",
    "test['target'] = preds\n",
    "\n",
    "neg_confidence_threshold = .0001\n",
    "pos_confidence_threshold = .9999\n",
    "\n",
    "test_pseudo = test.copy()\n",
    "test_pseudo.loc[test_pseudo['target'] >= pos_confidence_threshold, 'target'] = 1\n",
    "test_pseudo.loc[test_pseudo['target'] <= neg_confidence_threshold, 'target'] = 0"
   ]
  },
  {
   "cell_type": "markdown",
   "metadata": {},
   "source": [
    "#### Combine data"
   ]
  },
  {
   "cell_type": "code",
   "execution_count": 344,
   "metadata": {},
   "outputs": [],
   "source": [
    "test_pseudo = test_pseudo[(test_pseudo['target'] == 1) | (test_pseudo['target'] == 0)]\n",
    "train_pseudo = pd.concat([train, test_pseudo]).reset_index(drop=True)"
   ]
  },
  {
   "cell_type": "markdown",
   "metadata": {},
   "source": [
    "#### Model with combined data"
   ]
  },
  {
   "cell_type": "code",
   "execution_count": 345,
   "metadata": {},
   "outputs": [
    {
     "data": {
      "text/plain": [
       "(262144, 258)"
      ]
     },
     "execution_count": 345,
     "metadata": {},
     "output_type": "execute_result"
    }
   ],
   "source": [
    "train.shape"
   ]
  },
  {
   "cell_type": "code",
   "execution_count": 346,
   "metadata": {},
   "outputs": [
    {
     "data": {
      "text/plain": [
       "(354611, 258)"
      ]
     },
     "execution_count": 346,
     "metadata": {},
     "output_type": "execute_result"
    }
   ],
   "source": [
    "train_pseudo.shape"
   ]
  },
  {
   "cell_type": "code",
   "execution_count": 347,
   "metadata": {},
   "outputs": [
    {
     "data": {
      "application/vnd.jupyter.widget-view+json": {
       "model_id": "3d4e8d4eea9240c193a9f0fe9fb0e7d4",
       "version_major": 2,
       "version_minor": 0
      },
      "text/plain": [
       "HBox(children=(IntProgress(value=0, max=512), HTML(value='')))"
      ]
     },
     "metadata": {},
     "output_type": "display_data"
    },
    {
     "name": "stdout",
     "output_type": "stream",
     "text": [
      "\n",
      "CPU times: user 1min 36s, sys: 973 ms, total: 1min 37s\n",
      "Wall time: 24.8 s\n"
     ]
    }
   ],
   "source": [
    "%%time \n",
    "oof2 = np.zeros(len(train))\n",
    "preds2 = np.zeros(len(test))\n",
    "\n",
    "# build 512 seperate models\n",
    "for i in tqdm_notebook(range(512)):\n",
    "    # segment data\n",
    "    train_i = train[train['wheezy-copper-turtle-magic'] == i]\n",
    "    test_i = test[test['wheezy-copper-turtle-magic'] == i]\n",
    "    test_i_pseudo = test_pseudo[test_pseudo['wheezy-copper-turtle-magic'] == i]\n",
    "    \n",
    "    idx1 = train_i.index\n",
    "    idx2 = test_i.index\n",
    "    \n",
    "    train_i_pseudo = pd.concat([train_i, test_i_pseudo], axis=0).reset_index(drop=True)\n",
    "    \n",
    "    # get pseudo labeled data\n",
    "    # confident predictions <= 0.01 or >= 0.99\n",
    "#     test_i_pseudo = test_i[(test_i['target'] <= confidence_threshold_neg) | \n",
    "#                            (test_i['target'] >= confidence_threshold_pos)].copy()\n",
    "    \n",
    "#     test_i_pseudo = test_i_pseudo.apply(lambda row: 1 if row['target'] >= threshold else 0)\n",
    "#     test_i_pseudo.loc[test_i_pseudo['target'] >= 0.5, 'target'] = 1\n",
    "#     test_i_pseudo.loc[test_i_pseudo['target'] <  0.5, 'target'] = 0\n",
    "\n",
    "    # append pseudo labeled data to train data\n",
    "#     train_i_pseudo = pd.concat([train_i_pseudo, test_i_pseudo], axis=0)\n",
    "#     train_i_pseudo.reset_index(drop=True, inplace=True)\n",
    "\n",
    "    # feature selection\n",
    "    sel = VarianceThreshold(threshold=1.5).fit(train_i_pseudo[cols])\n",
    "\n",
    "    train_sel_pseudo = sel.transform(train_i_pseudo[cols])\n",
    "    train_sel = sel.transform(train_i[cols])\n",
    "    test_sel = sel.transform(test_i[cols])\n",
    "    \n",
    "    # stratified K-fold\n",
    "    skf = StratifiedKFold(n_splits=11, random_state=42, shuffle=True)\n",
    "\n",
    "    for train_idx, test_idx in skf.split(train_sel_pseudo, train_i_pseudo['target']):\n",
    "        test_idx_sel = test_idx[test_idx < len(train_sel)] # ignore pseudo in oof\n",
    "        # model and predict with QDA\n",
    "        \n",
    "        # instantiate model\n",
    "        clf = QuadraticDiscriminantAnalysis(reg_param=0.5)\n",
    "            \n",
    "        # fit model\n",
    "        clf.fit(train_sel_pseudo[train_idx,:], train_i_pseudo.loc[train_idx]['target'])\n",
    "\n",
    "        # predict probability\n",
    "        oof2[idx1[test_idx_sel]] = clf.predict_proba(train_sel[test_idx_sel, :])[:, 1]\n",
    "        preds2[test_i.index] += clf.predict_proba(test_sel)[:,1] / skf.n_splits\n",
    "        "
   ]
  },
  {
   "cell_type": "code",
   "execution_count": 348,
   "metadata": {},
   "outputs": [
    {
     "name": "stdout",
     "output_type": "stream",
     "text": [
      "Pseudo Labeled QDA train score: 0.97027\n"
     ]
    }
   ],
   "source": [
    "# model evaluation\n",
    "train_auc = roc_auc_score(train['target'], oof2)\n",
    "print('Pseudo Labeled QDA train score:', round(train_auc,5))\n"
   ]
  },
  {
   "cell_type": "code",
   "execution_count": 112,
   "metadata": {},
   "outputs": [
    {
     "data": {
      "text/plain": [
       "6553.6"
      ]
     },
     "execution_count": 112,
     "metadata": {},
     "output_type": "execute_result"
    }
   ],
   "source": [
    ".025*train.shape[0]"
   ]
  },
  {
   "cell_type": "code",
   "execution_count": 111,
   "metadata": {},
   "outputs": [
    {
     "data": {
      "text/plain": [
       "381"
      ]
     },
     "execution_count": 111,
     "metadata": {},
     "output_type": "execute_result"
    }
   ],
   "source": [
    "len(oof[(oof >= .48) & (oof <= .52)])"
   ]
  },
  {
   "cell_type": "markdown",
   "metadata": {},
   "source": [
    "### Flipping Misclassified Targets\n",
    "\n",
    "Attempt 1:  \n",
    "Flip 2.5% of false positives and false negatives **randomly**.\n",
    "\n",
    "Attempt 2:  \n",
    "Flip 2.5% of FPs and FNs where predicted probability was closest to `0.5`."
   ]
  },
  {
   "cell_type": "markdown",
   "metadata": {},
   "source": [
    "#### Flipping Randomly"
   ]
  },
  {
   "cell_type": "code",
   "execution_count": 146,
   "metadata": {},
   "outputs": [],
   "source": [
    "from heapq import nsmallest\n",
    "from sklearn.metrics import confusion_matrix"
   ]
  },
  {
   "cell_type": "code",
   "execution_count": 166,
   "metadata": {},
   "outputs": [
    {
     "data": {
      "text/plain": [
       "array([[123086,   7927],\n",
       "       [  7784, 123347]])"
      ]
     },
     "execution_count": 166,
     "metadata": {},
     "output_type": "execute_result"
    }
   ],
   "source": [
    "confusion_matrix(train['target'], np.round(oof))"
   ]
  },
  {
   "cell_type": "code",
   "execution_count": 165,
   "metadata": {},
   "outputs": [],
   "source": [
    "tn, fp, fn, tp = confusion_matrix(train['target'], np.round(oof)).ravel()"
   ]
  },
  {
   "cell_type": "code",
   "execution_count": 172,
   "metadata": {},
   "outputs": [],
   "source": [
    "from sklearn.metrics import accuracy_score"
   ]
  },
  {
   "cell_type": "code",
   "execution_count": 174,
   "metadata": {},
   "outputs": [
    {
     "data": {
      "text/plain": [
       "0.9400672912597656"
      ]
     },
     "execution_count": 174,
     "metadata": {},
     "output_type": "execute_result"
    }
   ],
   "source": [
    "accuracy_score(train['target'], np.round(oof))"
   ]
  },
  {
   "cell_type": "code",
   "execution_count": 171,
   "metadata": {},
   "outputs": [
    {
     "name": "stdout",
     "output_type": "stream",
     "text": [
      "198\n",
      "194\n"
     ]
    }
   ],
   "source": [
    "flip_pct = 0.025\n",
    "print(int(flip_pct * fp))\n",
    "print(int(flip_pct * fn))\n"
   ]
  },
  {
   "cell_type": "code",
   "execution_count": null,
   "metadata": {},
   "outputs": [],
   "source": [
    "train.loc[np.random.choice(misclass.index, flip_pct)]['target']"
   ]
  },
  {
   "cell_type": "code",
   "execution_count": 219,
   "metadata": {},
   "outputs": [],
   "source": [
    "# get distribution of probabilities of correct predictions\n",
    "correct_mask = train['target'] - np.round(oof) == 0\n",
    "misclass_mask = train['target'] - np.round(oof) != 0\n",
    "correct = train['target'][correct_mask]\n",
    "misclass = train['target'][misclass_mask]"
   ]
  },
  {
   "cell_type": "code",
   "execution_count": 225,
   "metadata": {},
   "outputs": [
    {
     "data": {
      "text/plain": [
       "<matplotlib.axes._subplots.AxesSubplot at 0x133f9e358>"
      ]
     },
     "execution_count": 225,
     "metadata": {},
     "output_type": "execute_result"
    },
    {
     "data": {
      "image/png": "[encoded data removed]",
      "text/plain": [
       "<Figure size 576x288 with 1 Axes>"
      ]
     },
     "metadata": {},
     "output_type": "display_data"
    }
   ],
   "source": [
    "plt.figure(figsize = (8, 4))\n",
    "plt.title('Correctly predicted probabilities')\n",
    "pd.Series(oof).loc[correct.index].hist(bins = 20)"
   ]
  },
  {
   "cell_type": "code",
   "execution_count": 223,
   "metadata": {},
   "outputs": [
    {
     "data": {
      "text/plain": [
       "<matplotlib.axes._subplots.AxesSubplot at 0x1311ac748>"
      ]
     },
     "execution_count": 223,
     "metadata": {},
     "output_type": "execute_result"
    },
    {
     "data": {
      "image/png": "[encoded data removed]",
      "text/plain": [
       "<Figure size 576x288 with 1 Axes>"
      ]
     },
     "metadata": {},
     "output_type": "display_data"
    }
   ],
   "source": [
    "plt.figure(figsize = (8, 4))\n",
    "plt.title('Misclassified predicted probabilities')\n",
    "pd.Series(oof).loc[misclass.index].hist(bins = 20)"
   ]
  },
  {
   "cell_type": "code",
   "execution_count": 193,
   "metadata": {},
   "outputs": [
    {
     "data": {
      "text/plain": [
       "Int64Index([     0,      1,      2,      3,      4,      5,      6,      7,\n",
       "                 9,     10,\n",
       "            ...\n",
       "            262133, 262134, 262135, 262136, 262137, 262138, 262139, 262140,\n",
       "            262141, 262143],\n",
       "           dtype='int64', length=246433)"
      ]
     },
     "execution_count": 193,
     "metadata": {},
     "output_type": "execute_result"
    }
   ],
   "source": []
  },
  {
   "cell_type": "code",
   "execution_count": 154,
   "metadata": {},
   "outputs": [
    {
     "data": {
      "text/plain": [
       "[0.5000557288705957, 0.5001215954993877, 0.4998263601269167]"
      ]
     },
     "execution_count": 154,
     "metadata": {},
     "output_type": "execute_result"
    }
   ],
   "source": [
    "nsmallest(3, oof, key = lambda x: abs(x-0.5))"
   ]
  },
  {
   "cell_type": "markdown",
   "metadata": {},
   "source": [
    "### Submission"
   ]
  },
  {
   "cell_type": "code",
   "execution_count": 99,
   "metadata": {},
   "outputs": [],
   "source": [
    "sub = pd.read_csv('../data/sample_submission.csv')\n",
    "sub['target'] = preds\n",
    "sub.to_csv('../predictions/submission.csv', index=False)"
   ]
  },
  {
   "cell_type": "code",
   "execution_count": null,
   "metadata": {},
   "outputs": [],
   "source": []
  },
  {
   "cell_type": "code",
   "execution_count": null,
   "metadata": {},
   "outputs": [],
   "source": []
  }
 ],
 "metadata": {
  "kernelspec": {
   "display_name": "Python 3",
   "language": "python",
   "name": "python3"
  },
  "language_info": {
   "codemirror_mode": {
    "name": "ipython",
    "version": 3
   },
   "file_extension": ".py",
   "mimetype": "text/x-python",
   "name": "python",
   "nbconvert_exporter": "python",
   "pygments_lexer": "ipython3",
   "version": "3.6.8"
  }
 },
 "nbformat": 4,
 "nbformat_minor": 2
}
